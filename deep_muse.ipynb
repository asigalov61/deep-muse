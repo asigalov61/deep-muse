{
  "nbformat": 4,
  "nbformat_minor": 0,
  "metadata": {
    "colab": {
      "name": "deep-muse.ipynb",
      "private_outputs": true,
      "provenance": [],
      "collapsed_sections": [],
      "toc_visible": true,
      "machine_shape": "hm"
    },
    "kernelspec": {
      "name": "python3",
      "display_name": "Python 3"
    }
  },
  "cells": [
    {
      "cell_type": "markdown",
      "metadata": {
        "id": "EBSe4NI8ojlq"
      },
      "source": [
        "# deep-muse (ver 0.5) [WIP]\n",
        "\n",
        "***\n",
        "\n",
        "# Advanced text-to-music generator\n",
        "\n",
        "***\n",
        "\n",
        "## Inspired by https://github.com/lucidrains/deep-daze\n",
        "\n",
        "## Powered by tegridy-tools TMIDI 2.2 Optimus Processors\n",
        "\n",
        "***\n",
        "\n",
        "### Project Los Angeles\n",
        "### Tegridy Code 2021\n",
        "\n",
        "***"
      ]
    },
    {
      "cell_type": "markdown",
      "metadata": {
        "id": "kL_ZOMyDo_uS"
      },
      "source": [
        "# Setup environment"
      ]
    },
    {
      "cell_type": "code",
      "metadata": {
        "id": "EJFb1Z36RONl",
        "cellView": "form"
      },
      "source": [
        "#@title Install dependencies\n",
        "!git clone https://github.com/asigalov61/tegridy-tools\n",
        "!pip install tqdm\n",
        "!apt install fluidsynth #Pip does not work for some reason. Only apt works\n",
        "!pip install midi2audio\n",
        "\n",
        "# packages below are for plotting pianoroll only\n",
        "# they are not needed for anything else\n",
        "!pip install pretty_midi\n",
        "!pip install librosa\n",
        "!pip install matplotlib"
      ],
      "execution_count": null,
      "outputs": []
    },
    {
      "cell_type": "code",
      "metadata": {
        "id": "dLmnUQ8cRX7n",
        "cellView": "form"
      },
      "source": [
        "#@title Load needed modules\n",
        "print('Loading needed modules. Please wait...')\n",
        "\n",
        "import sys\n",
        "import os\n",
        "import json\n",
        "import secrets\n",
        "import copy\n",
        "\n",
        "os.chdir('/content/tegridy-tools/tegridy-tools/')\n",
        "import TMIDI\n",
        "os.chdir('/content/')\n",
        "\n",
        "from pprint import pprint\n",
        "\n",
        "import tqdm.auto\n",
        "from tqdm import auto\n",
        "from midi2audio import FluidSynth\n",
        "from IPython.display import display, Javascript, HTML, Audio\n",
        "\n",
        "# only for plotting pianoroll\n",
        "import pretty_midi\n",
        "import librosa.display\n",
        "import matplotlib.pyplot as plt\n",
        "\n",
        "from google.colab import output, drive\n",
        "\n",
        "print('Creating Dataset dir...')\n",
        "if not os.path.exists('/content/Dataset'):\n",
        "    os.makedirs('/content/Dataset')\n",
        "\n",
        "os.chdir('/content/')\n",
        "print('Loading complete. Enjoy! :)')"
      ],
      "execution_count": null,
      "outputs": []
    },
    {
      "cell_type": "markdown",
      "metadata": {
        "id": "8C3V8HTx0i1I"
      },
      "source": [
        "# Prep statistics dictionary"
      ]
    },
    {
      "cell_type": "code",
      "metadata": {
        "id": "Kt53Lv2m52eQ",
        "cellView": "form"
      },
      "source": [
        "#@title Load English Karaoke Statistics\n",
        "data = TMIDI.Tegridy_Any_Pickle_File_Loader('/content/tegridy-tools/tegridy-data/Basic-English-Karaoke-Statistics')\n",
        "karp = data[0]\n",
        "kard = data[1]\n",
        "karw = data[2]\n",
        "pitches_words = data[3]\n",
        "words_music = data[4]\n",
        "\n",
        "pitches = []\n",
        "durations = []\n",
        "words = []\n",
        "\n",
        "for p in karp:\n",
        "  pitches.extend(p)\n",
        "\n",
        "for d in kard:\n",
        "  durations.extend(d)\n",
        "\n",
        "for w in karw:\n",
        "  words.extend(w)\n",
        "\n",
        "pitches_durations = []\n",
        "for i in range(len(words)):\n",
        "  pitches_durations.append([pitches[i], durations[i]])\n",
        "\n",
        "words_music = []\n",
        "\n",
        "for i in range(len(words)):\n",
        "  words_music.append([words[i], pitches_durations[i][0], pitches_durations[i][1] ])"
      ],
      "execution_count": null,
      "outputs": []
    },
    {
      "cell_type": "markdown",
      "metadata": {
        "id": "JIkLmNMv0mMG"
      },
      "source": [
        "# Generate Music\n",
        "\n",
        "## NOTE: Karaoke melody only for now"
      ]
    },
    {
      "cell_type": "code",
      "metadata": {
        "id": "SSISb9fJfF00",
        "cellView": "form"
      },
      "source": [
        "#@title Generate Music from the lyrics below\n",
        "\n",
        "#@markdown NOTE: No spaces, commas, etc., please.\n",
        "\n",
        "#@markdown ProTip: Be as ambiguous and general as possible for best results as the current dictionary is too small for anything specific. \n",
        "lyric1 = 'I love you very very much' #@param {type:\"string\"}\n",
        "lyric2 = 'I can not live without you' #@param {type:\"string\"}\n",
        "lyric3 = 'You always present on my mind' #@param {type:\"string\"}\n",
        "lyric4 = 'I often think about you' #@param {type:\"string\"}\n",
        "\n",
        "lyric5 = 'I am all out of love I am so lost without you' #@param {type:\"string\"}\n",
        "lyric6 = 'I know you were right believing for so long' #@param {type:\"string\"}\n",
        "lyric7 = 'I am all out of love what am I without you' #@param {type:\"string\"}\n",
        "lyric8 = 'I cant be too late to say that I was so wrong' #@param {type:\"string\"}\n",
        "minimum_notes_pitch_baseline = 70 #@param {type:\"slider\", min:22, max:127, step:1}\n",
        "minimum_notes_duration_baseline = 200 #@param {type:\"slider\", min:100, max:2000, step:100}\n",
        "\n",
        "txt = '| ' + lyric1 + ' | ' + lyric2 + ' | ' + lyric3 + ' | ' + lyric4 + ' | ' + lyric5 + ' | ' + lyric6 + ' | ' + lyric7 + ' | ' + lyric8 + ' |'\n",
        "\n",
        "txts = txt.split()\n",
        "song = []\n",
        "rating = 0\n",
        "melody_baseline_pitch = 90\n",
        "notes_match_rating = 40\n",
        "p = ['=====', 60, 0]\n",
        "x = ['=====', 0, 0]\n",
        "\n",
        "print('Generating composition. Please wait...')\n",
        "\n",
        "for t in auto.tqdm(txts):\n",
        "  try:\n",
        "\n",
        "    # simple base-line matching\n",
        "    '''x = ['=====', 0, 0]\n",
        "    while x[1] <= melody_baseline_pitch:\n",
        "      x = words_music[words.index(t, secrets.randbelow(len(words)))]'''\n",
        "    \n",
        "    # fuzzywuzzy rating matching\n",
        "    '''while rating < notes_match_rating:\n",
        "      try:\n",
        "        x = copy.deepcopy(words_music[words.index(t, secrets.randbelow(len(words)))])\n",
        "        #print(x)\n",
        "        rating = fuzz.ratio(str(x[2]), str(p[2]))\n",
        "        # print(rating)\n",
        "      except:\n",
        "        x = ['=====', 22, 1600]\n",
        "        rating = 0\n",
        "        break'''\n",
        "    # pitch/duration matching (produces nice results)\n",
        "    while x[1] < minimum_notes_pitch_baseline or x[2] < minimum_notes_duration_baseline:\n",
        "      try:\n",
        "        x = copy.deepcopy(words_music[words.index(t, secrets.randbelow(len(words)))])\n",
        "\n",
        "      except:\n",
        "        x = ['=====', 22, 1600] # pitch > 21 for Google note-seq compatibility\n",
        "        break\n",
        "\n",
        "    song.append(x)\n",
        "    x = ['=====', 0, 0]\n",
        "    p = copy.deepcopy(x)\n",
        "    rating = 0\n",
        "\n",
        "  except KeyboardInterrupt:\n",
        "    break\n",
        "\n",
        "pprint(song, compact=True)"
      ],
      "execution_count": null,
      "outputs": []
    },
    {
      "cell_type": "markdown",
      "metadata": {
        "id": "S9i_kfkfp1Qr"
      },
      "source": [
        "# Convert generated music composition to MIDI file and download/listen to the output :)"
      ]
    },
    {
      "cell_type": "code",
      "metadata": {
        "id": "BnfOjCMa1jJj",
        "cellView": "form"
      },
      "source": [
        "#@title Convert to MIDI\n",
        "notes_durations_multiplier = 1 #@param {type:\"slider\", min:0.1, max:2, step:0.1}\n",
        "\n",
        "out = []\n",
        "time = 0\n",
        "note = []\n",
        "for s in song:\n",
        "  if s[1] > 22:\n",
        "    note = ['note', int(time), s[2], 0, s[1], 90 ]\n",
        "  else:\n",
        "    note = ['note', int(time), s[2], 0, s[1], 0 ]\n",
        "\n",
        " \n",
        "  out.append(note)\n",
        "  \n",
        "  kar = ['lyric', int(time), s[0] ]\n",
        "  out.append(kar)\n",
        "\n",
        "  time += int(s[2] * notes_durations_multiplier)\n",
        "\n",
        "TMIDI.Tegridy_SONG_to_MIDI_Converter(out, output_file_name='/content/deep-muse-Output-MIDI')"
      ],
      "execution_count": null,
      "outputs": []
    },
    {
      "cell_type": "code",
      "metadata": {
        "id": "tTc4mhBLe-TV",
        "cellView": "form"
      },
      "source": [
        "#@title Plot and listen to the last generated composition\n",
        "#@markdown NOTE: May be very slow with the long compositions\n",
        "fname = '/content/deep-muse-Output-MIDI'\n",
        "\n",
        "fn = os.path.basename(fname + '.mid')\n",
        "fn1 = fn.split('.')[0]\n",
        "print('Playing and plotting composition...')\n",
        "\n",
        "pm = pretty_midi.PrettyMIDI(fname + '.mid')\n",
        "\n",
        "# Retrieve piano roll of the MIDI file\n",
        "piano_roll = pm.get_piano_roll()\n",
        "\n",
        "plt.figure(figsize=(14, 5))\n",
        "librosa.display.specshow(piano_roll, x_axis='time', y_axis='cqt_note', sr=64000, cmap=plt.cm.hot)\n",
        "plt.title('Composition: ' + fn1)\n",
        "\n",
        "print('Synthesizing the last output MIDI. Please stand-by... ')\n",
        "FluidSynth(\"/usr/share/sounds/sf2/FluidR3_GM.sf2\", 16000).midi_to_audio(str(fname + '.mid'), str(fname + '.wav'))\n",
        "Audio(str(fname + '.wav'), rate=16000)"
      ],
      "execution_count": null,
      "outputs": []
    },
    {
      "cell_type": "markdown",
      "metadata": {
        "id": "KIztXW_exsDO"
      },
      "source": [
        "# English Karaoke Statistics Graphs"
      ]
    },
    {
      "cell_type": "code",
      "metadata": {
        "id": "JXwMltblzxZj",
        "cellView": "form"
      },
      "source": [
        "#@title Pitches-Words Graph\n",
        "from matplotlib import pyplot as plt\n",
        "from matplotlib import style\n",
        " \n",
        "style.use('ggplot')\n",
        " \n",
        "x = pitches_words.values()\n",
        "y = pitches_words.keys()\n",
        " \n",
        "plt.bar(x, y, align='center')\n",
        " \n",
        "plt.title('Pitches Words Diagram')\n",
        "plt.ylabel('Pitches')\n",
        "plt.xlabel('Words')\n",
        " \n",
        "plt.show()"
      ],
      "execution_count": null,
      "outputs": []
    },
    {
      "cell_type": "code",
      "metadata": {
        "id": "KUpEb59aubiJ",
        "cellView": "form"
      },
      "source": [
        "#@title Pitches-Words Graph 2\n",
        "colors = list(\"rgb\")\n",
        "\n",
        "\n",
        "x = pitches_words.keys()\n",
        "y = pitches_words.values()\n",
        "plt.scatter(x,y,color=colors.pop())\n",
        "\n",
        "plt.legend(pitches_words.keys())\n",
        "plt.savefig('/content/scatterplot.png', dpi=300)\n",
        "plt.show()"
      ],
      "execution_count": null,
      "outputs": []
    },
    {
      "cell_type": "code",
      "metadata": {
        "id": "ihu0Ky1ct4G1",
        "cellView": "form"
      },
      "source": [
        "#@title Pitches-Words Graph 3\n",
        "labels, values = zip(*pitches_words.items())\n",
        "plt.bar(labels, values)"
      ],
      "execution_count": null,
      "outputs": []
    },
    {
      "cell_type": "code",
      "metadata": {
        "id": "zgxJP2oJtARm",
        "cellView": "form"
      },
      "source": [
        "#@title Pitches-Words Graph 4\n",
        "plt.bar(range(len(pitches_words)), pitches_words.values(), align=\"center\")\n",
        "plt.xticks(range(len(pitches_words)), list(pitches_words.keys()))"
      ],
      "execution_count": null,
      "outputs": []
    },
    {
      "cell_type": "markdown",
      "metadata": {
        "id": "lIEy5U1L00eh"
      },
      "source": [
        "# Congrats! You did it! :)"
      ]
    }
  ]
}