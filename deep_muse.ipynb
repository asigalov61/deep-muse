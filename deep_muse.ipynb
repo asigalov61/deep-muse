{
  "nbformat": 4,
  "nbformat_minor": 0,
  "metadata": {
    "colab": {
      "name": "deep-muse.ipynb",
      "private_outputs": true,
      "provenance": [],
      "collapsed_sections": [],
      "toc_visible": true,
      "machine_shape": "hm"
    },
    "kernelspec": {
      "name": "python3",
      "display_name": "Python 3"
    }
  },
  "cells": [
    {
      "cell_type": "markdown",
      "metadata": {
        "id": "EBSe4NI8ojlq"
      },
      "source": [
        "# deep-muse (ver 0.7) [WIP]\n",
        "\n",
        "***\n",
        "\n",
        "# Advanced text-to-music generator\n",
        "\n",
        "***\n",
        "\n",
        "## Inspired by https://github.com/lucidrains/deep-daze\n",
        "\n",
        "## Powered by tegridy-tools TMIDI 2.2 Optimus Processors\n",
        "\n",
        "***\n",
        "\n",
        "### Project Los Angeles\n",
        "### Tegridy Code 2021\n",
        "\n",
        "***"
      ]
    },
    {
      "cell_type": "markdown",
      "metadata": {
        "id": "kL_ZOMyDo_uS"
      },
      "source": [
        "# Setup environment"
      ]
    },
    {
      "cell_type": "code",
      "metadata": {
        "id": "EJFb1Z36RONl",
        "cellView": "form"
      },
      "source": [
        "#@title Install dependencies\n",
        "!git clone https://github.com/asigalov61/tegridy-tools\n",
        "!pip install tqdm\n",
        "\n",
        "# for data\n",
        "!pip install fuzzywuzzy[speedup]\n",
        "\n",
        "# for listening\n",
        "!apt install fluidsynth #Pip does not work for some reason. Only apt works\n",
        "!pip install midi2audio\n",
        "\n",
        "# packages below are for plotting pianoroll only\n",
        "# they are not needed for anything else\n",
        "!pip install pretty_midi\n",
        "!pip install librosa\n",
        "!pip install matplotlib"
      ],
      "execution_count": null,
      "outputs": []
    },
    {
      "cell_type": "code",
      "metadata": {
        "id": "dLmnUQ8cRX7n",
        "cellView": "form"
      },
      "source": [
        "#@title Load needed modules\n",
        "print('Loading needed modules. Please wait...')\n",
        "\n",
        "import sys\n",
        "import os\n",
        "import json\n",
        "import secrets\n",
        "import copy\n",
        "\n",
        "os.chdir('/content/tegridy-tools/tegridy-tools/')\n",
        "import TMIDI\n",
        "os.chdir('/content/')\n",
        "\n",
        "from fuzzywuzzy import fuzz\n",
        "from fuzzywuzzy import process\n",
        "from itertools import islice, accumulate\n",
        "\n",
        "from pprint import pprint\n",
        "\n",
        "import tqdm.auto\n",
        "from tqdm import auto\n",
        "from midi2audio import FluidSynth\n",
        "from IPython.display import display, Javascript, HTML, Audio\n",
        "\n",
        "# only for plotting pianoroll\n",
        "import pretty_midi\n",
        "import librosa.display\n",
        "import matplotlib.pyplot as plt\n",
        "\n",
        "from google.colab import output, drive\n",
        "\n",
        "print('Creating Dataset dir...')\n",
        "if not os.path.exists('/content/Dataset'):\n",
        "    os.makedirs('/content/Dataset')\n",
        "\n",
        "os.chdir('/content/')\n",
        "print('Loading complete. Enjoy! :)')"
      ],
      "execution_count": null,
      "outputs": []
    },
    {
      "cell_type": "markdown",
      "metadata": {
        "id": "8C3V8HTx0i1I"
      },
      "source": [
        "# Prep statistics dictionary"
      ]
    },
    {
      "cell_type": "code",
      "metadata": {
        "id": "wCkcC2l-Xlwd",
        "cellView": "form"
      },
      "source": [
        "#@title Download English Karaoke MIDI classification model\n",
        "%cd /content/\n",
        "!wget --no-check-certificate -O Karaoke-English-Full.pickle \"https://onedrive.live.com/download?cid=8A0D502FC99C608F&resid=8A0D502FC99C608F%2118485&authkey=ABXca9Cn2L-64UE\""
      ],
      "execution_count": null,
      "outputs": []
    },
    {
      "cell_type": "code",
      "metadata": {
        "id": "Kt53Lv2m52eQ",
        "cellView": "form"
      },
      "source": [
        "#@title Load and prep the model\n",
        "\n",
        "print('Loading the Karaoke model. Please wait...')\n",
        "data = TMIDI.Tegridy_Any_Pickle_File_Loader('/content/Karaoke-English-Full')\n",
        "\n",
        "print('Done!')\n",
        "print('Prepping data...')\n",
        "\n",
        "kar_ev_f = data[2]\n",
        "\n",
        "kar = []\n",
        "karaoke = []\n",
        "\n",
        "for k in auto.tqdm(kar_ev_f):\n",
        "  k.sort(reverse=False, key=lambda x: x[1])\n",
        "  for kk in k:\n",
        "    \n",
        "    if kk[0] == 'note' or kk[0] == 'text_event':\n",
        "      kar.append(kk)\n",
        "\n",
        "kar_words = []\n",
        "for o in auto.tqdm(kar):\n",
        "  if o[0] != 'note':\n",
        "    kar_words.append(str(o[2]).lower())\n",
        "\n",
        "print('Done! Enjoy! :)')"
      ],
      "execution_count": null,
      "outputs": []
    },
    {
      "cell_type": "markdown",
      "metadata": {
        "id": "JIkLmNMv0mMG"
      },
      "source": [
        "# Generate Music\n",
        "\n"
      ]
    },
    {
      "cell_type": "code",
      "metadata": {
        "id": "SSISb9fJfF00",
        "cellView": "form"
      },
      "source": [
        "#@title Generate Music from the lyrics below\n",
        "\n",
        "#@markdown NOTE: No spaces, commas, etc., please.\n",
        "\n",
        "#@markdown ProTip: Be as ambiguous and general as possible for best results as the current dictionary is too small for anything specific. \n",
        "lyric1 = 'I love you very very much' #@param {type:\"string\"}\n",
        "lyric2 = 'I can not live without you' #@param {type:\"string\"}\n",
        "lyric3 = 'You always present on my mind' #@param {type:\"string\"}\n",
        "lyric4 = 'I often think about you' #@param {type:\"string\"}\n",
        "\n",
        "lyric5 = 'I am all out of love I am so lost without you' #@param {type:\"string\"}\n",
        "lyric6 = 'I know you were right believing for so long' #@param {type:\"string\"}\n",
        "lyric7 = 'I am all out of love what am I without you' #@param {type:\"string\"}\n",
        "lyric8 = 'I cant be too late to say that I was so wrong' #@param {type:\"string\"}\n",
        "\n",
        "text = [lyric1, lyric2, lyric3, lyric4, lyric5, lyric6, lyric7, lyric8]\n",
        "\n",
        "song = []\n",
        "\n",
        "words_lst = ''\n",
        "\n",
        "print('=' * 100)\n",
        "\n",
        "print('Deep-Muse Text to Music Generator')\n",
        "print('Starting up...')\n",
        "\n",
        "print('=' * 100)\n",
        "\n",
        "for t in auto.tqdm(text):\n",
        "  txt = t.lower().split(' ')\n",
        "  \n",
        "  kar_words_split = list(TMIDI.Tegridy_List_Slicer(kar_words, len(txt)))\n",
        "  \n",
        "  ratings = []\n",
        "\n",
        "  for k in kar_words_split:\n",
        "    ratings.append(fuzz.ratio(txt, k))\n",
        "\n",
        "  words_list = kar_words_split[ratings.index(max(ratings))]\n",
        "  pos = ratings.index(max(ratings)) * len(txt)\n",
        "  \n",
        "\n",
        "  print(words_list)\n",
        "\n",
        "  words_lst += ' '.join(words_list) + chr(10)\n",
        "\n",
        "  c = 0\n",
        "  for i in range(len(kar)):\n",
        "    if kar[i][0] != 'note':\n",
        "      if c == pos:\n",
        "        idx = i\n",
        "        break\n",
        "\n",
        "    if kar[i][0] != 'note':\n",
        "      c += 1\n",
        " \n",
        "  c = 0\n",
        "  for i in range(idx, len(kar)):\n",
        "    if kar[i][0] != 'note':\n",
        "      if c == len(txt):\n",
        "        break\n",
        "\n",
        "    if kar[i][0] == 'note':\n",
        "      song.append(kar[i])\n",
        "\n",
        "    if kar[i][0] != 'note':\n",
        "      c += 1\n",
        "      song.append(kar[i])\n",
        "\n",
        "so = [y for y in song if len(y) > 3]\n",
        "if so != []: sigs = TMIDI.Tegridy_MIDI_Signature(so, so)\n",
        "\n",
        "print('=' * 100)\n",
        "\n",
        "print(sigs[0])\n",
        "\n",
        "print('=' * 100)\n",
        "\n",
        "song1 = []\n",
        "p = song[0]\n",
        "p[1] = 0\n",
        "time = 0\n",
        "\n",
        "song.sort(reverse=False, key=lambda x: x[1])\n",
        "\n",
        "for i in range(len(song)-1):\n",
        "\n",
        "    ss = copy.deepcopy(song[i])\n",
        "    if song[i][1] != p[1]:\n",
        "      \n",
        "      if abs(song[i][1] - p[1]) > 1000:\n",
        "        time += 300\n",
        "      else:\n",
        "        time += abs(song[i][1] - p[1])\n",
        "\n",
        "      ss[1] = time \n",
        "      song1.append(ss)\n",
        "      \n",
        "      p = copy.deepcopy(song[i])\n",
        "    else:\n",
        "      \n",
        "      ss[1] = time\n",
        "      song1.append(ss)\n",
        "      \n",
        "      p = copy.deepcopy(song[i])\n",
        "\n",
        "pprint(words_lst, compact=True)\n",
        "print('=' * 100)"
      ],
      "execution_count": null,
      "outputs": []
    },
    {
      "cell_type": "markdown",
      "metadata": {
        "id": "S9i_kfkfp1Qr"
      },
      "source": [
        "# Convert generated music composition to MIDI file and download/listen to the output :)"
      ]
    },
    {
      "cell_type": "code",
      "metadata": {
        "id": "BnfOjCMa1jJj",
        "cellView": "form"
      },
      "source": [
        "#@title Convert to MIDI\n",
        "\n",
        "TMIDI.Tegridy_SONG_to_MIDI_Converter(song1, output_file_name='/content/deep-muse-Output-MIDI')"
      ],
      "execution_count": null,
      "outputs": []
    },
    {
      "cell_type": "code",
      "metadata": {
        "id": "tTc4mhBLe-TV",
        "cellView": "form"
      },
      "source": [
        "#@title Plot and listen to the last generated composition\n",
        "#@markdown NOTE: May be very slow with the long compositions\n",
        "fname = '/content/deep-muse-Output-MIDI'\n",
        "\n",
        "fn = os.path.basename(fname + '.mid')\n",
        "fn1 = fn.split('.')[0]\n",
        "print('Playing and plotting composition...')\n",
        "\n",
        "pm = pretty_midi.PrettyMIDI(fname + '.mid')\n",
        "\n",
        "# Retrieve piano roll of the MIDI file\n",
        "piano_roll = pm.get_piano_roll()\n",
        "\n",
        "plt.figure(figsize=(14, 5))\n",
        "librosa.display.specshow(piano_roll, x_axis='time', y_axis='cqt_note', sr=64000, cmap=plt.cm.hot)\n",
        "plt.title('Composition: ' + fn1)\n",
        "\n",
        "print('Synthesizing the last output MIDI. Please stand-by... ')\n",
        "FluidSynth(\"/usr/share/sounds/sf2/FluidR3_GM.sf2\", 16000).midi_to_audio(str(fname + '.mid'), str(fname + '.wav'))\n",
        "Audio(str(fname + '.wav'), rate=16000)"
      ],
      "execution_count": null,
      "outputs": []
    },
    {
      "cell_type": "markdown",
      "metadata": {
        "id": "lIEy5U1L00eh"
      },
      "source": [
        "# Congrats! You did it! :)"
      ]
    }
  ]
}